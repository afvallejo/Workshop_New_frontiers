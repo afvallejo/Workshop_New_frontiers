{
  "nbformat": 4,
  "nbformat_minor": 0,
  "metadata": {
    "colab": {
      "name": "1_QC_to_Annotation_workshop_CP.ipynb",
      "provenance": [],
      "collapsed_sections": [],
      "include_colab_link": true
    },
    "kernelspec": {
      "name": "python3",
      "display_name": "Python 3"
    }
  },
  "cells": [
    {
      "cell_type": "markdown",
      "metadata": {
        "id": "view-in-github",
        "colab_type": "text"
      },
      "source": [
        "<a href=\"https://colab.research.google.com/github/afvallejo/Workshop_New_frontiers/blob/main/1_QC_to_Annotation_workshop_CP.ipynb\" target=\"_parent\"><img src=\"https://colab.research.google.com/assets/colab-badge.svg\" alt=\"Open In Colab\"/></a>"
      ]
    },
    {
      "cell_type": "markdown",
      "metadata": {
        "id": "Uyx3kyI0eol7"
      },
      "source": [
        "# Instructions\n",
        "**Quick start**\n",
        "\n",
        "1. Setup your analysis conditions using the sliders under setup.\n",
        "2. Press \"Runtime\" -> \"Run all\".\n",
        "3. The pipeline will run automatically up to an annotated umap plot\n",
        "\n",
        "**If you get an error**\n",
        "\n",
        "*   Press \"Runtime\" -> \"Factory reset  runtime\" and then try againg the quick start instructions.\n",
        "\n"
      ]
    },
    {
      "cell_type": "markdown",
      "metadata": {
        "id": "evXce7PHiCTj"
      },
      "source": [
        "# Installing packages"
      ]
    },
    {
      "cell_type": "code",
      "metadata": {
        "id": "SCXxenvfA3X5",
        "cellView": "form"
      },
      "source": [
        "#@title Install\n",
        "!pip install scanpy[louvain] anndata2ri leidenalg scrublet"
      ],
      "execution_count": null,
      "outputs": []
    },
    {
      "cell_type": "markdown",
      "metadata": {
        "id": "tRW_Dtqv9kAa"
      },
      "source": [
        "# Setup"
      ]
    },
    {
      "cell_type": "code",
      "metadata": {
        "id": "ELPfxgU6pW04",
        "cellView": "form"
      },
      "source": [
        "#@title Setup\n",
        "\n",
        "state = 42\n",
        "metric = \"euclidean\"\n",
        "\n",
        "\n",
        "# Filtering criteria\n",
        "min_counts = 500#@param {type:\"slider\", min:50, max:1000, step:50}\n",
        "max_counts = 40000#@param {type:\"slider\", min:5000, max:50000, step:5000}\n",
        "min_genes = 5#@param {type:\"slider\", min:5, max:100, step:5}\n",
        "\n",
        "mito_criteria = 20#@param {type:\"slider\", min:0, max:100, step:5}\n",
        "\n",
        "flavor=\"cell_ranger\" #@param [\"cell_ranger\",\"seurat\"] {allow-input: true}\n",
        "n_top_genes = 3000#@param {type:\"slider\", min:500, max:5000, step:100}\n",
        "\n",
        "n_neighbors = 30#@param {type:\"slider\", min:5, max:50, step:5}\n",
        "num_PCA = 30#@param {type:\"slider\", min:5, max:50, step:5}\n",
        "\n",
        "\n",
        "#_________________________________________________________________________________\n",
        "\n"
      ],
      "execution_count": null,
      "outputs": []
    },
    {
      "cell_type": "markdown",
      "metadata": {
        "id": "t2gGXPnOn3FD"
      },
      "source": [
        "# Load packages"
      ]
    },
    {
      "cell_type": "code",
      "metadata": {
        "id": "JFZDQ7bq-PBM",
        "cellView": "form"
      },
      "source": [
        "#@title load \n",
        "import scanpy as sc\n",
        "import scanpy.external as sce\n",
        "\n",
        "# numpy et al.\n",
        "import numpy as np\n",
        "import scipy.sparse as sp\n",
        "import pandas as pd\n",
        "import gc\n",
        "\n",
        "# R integration\n",
        "from rpy2.robjects.packages import importr\n",
        "\n",
        "from rpy2.robjects.vectors import StrVector, FloatVector, ListVector\n",
        "import rpy2.robjects as ro\n",
        "import anndata2ri\n",
        "\n",
        "import numpy as np\n",
        "import matplotlib.pyplot as pl\n",
        "import pandas as pd\n",
        "import seaborn as sb\n",
        "import re\n",
        "import scipy as sp\n",
        "import datetime, time\n",
        "\n",
        "pl.rcParams['pdf.fonttype'] = 'truetype'\n",
        "from matplotlib import colors\n",
        "sc.set_figure_params(vector_friendly=False,dpi_save=300,transparent=True)\n",
        "pl.rcParams['lines.linewidth'] = 0.1\n",
        "sc.set_figure_params(color_map='Reds')\n",
        "\n",
        "\n",
        "sc.settings.verbosity = 3               # verbosity: errors (0), warnings (1), info (2), hints (3)\n",
        "#sc.logging.print_versions()\n",
        "sc.logging.print_version_and_date()\n",
        "\n"
      ],
      "execution_count": null,
      "outputs": []
    },
    {
      "cell_type": "markdown",
      "metadata": {
        "id": "P8ExHdzOXQhr"
      },
      "source": [
        "# Setup"
      ]
    },
    {
      "cell_type": "markdown",
      "metadata": {
        "id": "cV9xVzomjfe1"
      },
      "source": [
        "## setup  Working Directory WD"
      ]
    },
    {
      "cell_type": "code",
      "metadata": {
        "id": "Y417brZIw9Dc"
      },
      "source": [
        "# print your current directory \n",
        "!pwd"
      ],
      "execution_count": null,
      "outputs": []
    },
    {
      "cell_type": "code",
      "metadata": {
        "id": "-73o_O15kkMV"
      },
      "source": [
        "!mkdir PBMC\n",
        "%cd PBMC"
      ],
      "execution_count": null,
      "outputs": []
    },
    {
      "cell_type": "code",
      "metadata": {
        "id": "JLUeRkjKuz0_"
      },
      "source": [
        "# change here to the folder containig the Aligned data\n",
        "folder='/content/PBMC'\n",
        "\n",
        "# change here for the name of your sample, this name will be added to the figures names.\n",
        "samplename=\"sample1\"\n",
        "\n",
        "#set the WD as in \"folder\" and create a directory for figures\n",
        "import os\n",
        "os.chdir(folder)\n",
        "if not os.path.exists('./figures'):\n",
        "    os.makedirs('./figures')"
      ],
      "execution_count": null,
      "outputs": []
    },
    {
      "cell_type": "markdown",
      "metadata": {
        "id": "cWi1F_oB4BNO"
      },
      "source": [
        "# Download test data from 10X"
      ]
    },
    {
      "cell_type": "code",
      "metadata": {
        "id": "T8xJyTGA4E-G"
      },
      "source": [
        "# Download the data from the 10x website\n",
        "!wget https://cf.10xgenomics.com/samples/cell-exp/3.1.0/connect_5k_pbmc_NGSC3_ch1/connect_5k_pbmc_NGSC3_ch1_filtered_feature_bc_matrix.tar.gz\n"
      ],
      "execution_count": null,
      "outputs": []
    },
    {
      "cell_type": "code",
      "metadata": {
        "id": "-stIogDc4ki3"
      },
      "source": [
        "# unpack the downloaded files\n",
        "!tar xvfz connect_5k_pbmc_NGSC3_ch1_filtered_feature_bc_matrix.tar.gz"
      ],
      "execution_count": null,
      "outputs": []
    },
    {
      "cell_type": "code",
      "metadata": {
        "id": "3eWj69sPBFB0"
      },
      "source": [
        "# print current WD, check is correct!\n",
        "!pwd"
      ],
      "execution_count": null,
      "outputs": []
    },
    {
      "cell_type": "markdown",
      "metadata": {
        "id": "EiumaXWDXQhs"
      },
      "source": [
        "# Load the data"
      ]
    },
    {
      "cell_type": "markdown",
      "metadata": {
        "id": "xk9Az4vTdujw"
      },
      "source": [
        "## MTX from cell ranger"
      ]
    },
    {
      "cell_type": "markdown",
      "metadata": {
        "id": "nmnZyE9N0-_o"
      },
      "source": [
        "After loading the data, metadata can be added. In this example sample names, treatment and donor are used as metadata. This labels can be used for gouping samples or perform statistical tests.\n",
        " "
      ]
    },
    {
      "cell_type": "code",
      "metadata": {
        "id": "aT88Z7MIdxp9"
      },
      "source": [
        "adata = sc.read_10x_mtx(\"/content/PBMC/filtered_feature_bc_matrix\")\n",
        "adata.obs['sample'] = ['sample1']*adata.n_obs\n",
        "adata.obs['treatment'] = ['CTR']*adata.n_obs\n",
        "adata.obs['donor'] = ['D1']*adata.n_obs\n",
        "#adata.X = sp.sparse.csr_matrix(adata.X)\n",
        "adata.var_names_make_unique()\n",
        "adata.obs_names_make_unique()\n",
        "adata"
      ],
      "execution_count": null,
      "outputs": []
    },
    {
      "cell_type": "markdown",
      "metadata": {
        "id": "ESX0wTlZb1FE"
      },
      "source": [
        " # QC and filtering"
      ]
    },
    {
      "cell_type": "markdown",
      "metadata": {
        "id": "FFwpItdixTGY"
      },
      "source": [
        "Data quality control can be split into cell QC and gene QC. Typical quality measures for assessing the quality of a cell include the number of molecule counts (UMIs), the number of expressed genes, and the fraction of counts that are mitochondrial. A high fraction of mitochondrial reads being picked up can indicate cell stress, as there is a low proportion of nuclear mRNA in the cell. It should be noted that high mitochondrial RNA fractions can also be biological signals indicating elevated respiration.\n"
      ]
    },
    {
      "cell_type": "markdown",
      "metadata": {
        "id": "aEVwgHegjqrm"
      },
      "source": [
        "# Filter doublets with scrublet"
      ]
    },
    {
      "cell_type": "markdown",
      "metadata": {
        "id": "6Tn3IRaL3HSP"
      },
      "source": [
        "Scrublet simulates doublets from the observed data and uses a k-nearest-neighbor classifier to calculate a continuous doublet_score (between 0 and 1) for each transcriptome. The score is automatically thresholded to generate predicted_doublets, a boolean array that is True for predicted doublets and False otherwise."
      ]
    },
    {
      "cell_type": "markdown",
      "metadata": {
        "id": "wByN74wj2uim"
      },
      "source": [
        "**Best practices:**\n",
        "\n",
        "- When working with data from multiple samples, run Scrublet on each sample separately. Because Scrublet is designed to detect technical doublets formed by the random co-encapsulation of two cells, it may perform poorly on merged datasets where the cell type proportions are not representative of any single sample.\n",
        "\n",
        "- Check that the doublet score threshold is reasonable (in an ideal case, separating the two peaks of a bimodal simulated doublet score histogram, as in this example), and adjust manually if necessary.\n",
        "\n",
        "- Visualize the doublet predictions in a 2-D embedding (e.g., UMAP or t-SNE). Predicted doublets should mostly co-localize (possibly in multiple clusters). If they do not, you may need to adjust the doublet score threshold, or change the pre-processing parameters to better resolve the cell states present in your data."
      ]
    },
    {
      "cell_type": "markdown",
      "metadata": {
        "id": "5i1X9L0FAwCf"
      },
      "source": [
        "# Filter doublets with scrublet"
      ]
    },
    {
      "cell_type": "code",
      "metadata": {
        "id": "4N7RTihXuWcx"
      },
      "source": [
        "sce.pp.scrublet(adata,\n",
        "    adata_sim = None,\n",
        "    sim_doublet_ratio= 2.0,\n",
        "    expected_doublet_rate = 0.05,\n",
        "    stdev_doublet_rate = 0.02,\n",
        "    synthetic_doublet_umi_subsampling= 1.0,\n",
        "    knn_dist_metric = 'euclidean',\n",
        "    normalize_variance= True,\n",
        "    log_transform= False,\n",
        "    mean_center= True,\n",
        "    n_prin_comps= 30,\n",
        "    use_approx_neighbors= True,\n",
        "    get_doublet_neighbor_parents= False,\n",
        "    n_neighbors = None,\n",
        "    threshold = None,\n",
        "    verbose = True,\n",
        "    copy= False,\n",
        "random_state= 0,)"
      ],
      "execution_count": null,
      "outputs": []
    },
    {
      "cell_type": "code",
      "metadata": {
        "id": "oQk-hWXVPOTI"
      },
      "source": [
        "sce.pl.scrublet_score_distribution(adata)"
      ],
      "execution_count": null,
      "outputs": []
    },
    {
      "cell_type": "markdown",
      "metadata": {
        "id": "Vh41UlfrQSnj"
      },
      "source": [
        "## remove doublets"
      ]
    },
    {
      "cell_type": "code",
      "metadata": {
        "id": "gZdb-0PpA8I2"
      },
      "source": [
        "adata = adata[adata.obs.predicted_doublet == False]\n",
        "adata"
      ],
      "execution_count": null,
      "outputs": []
    },
    {
      "cell_type": "markdown",
      "metadata": {
        "id": "6fdR_XE2dtgV"
      },
      "source": [
        "# QC filtering"
      ]
    },
    {
      "cell_type": "markdown",
      "metadata": {
        "id": "ipLqba4qdwUx"
      },
      "source": [
        "This code will calculate the QC covariates:\n",
        "\n",
        "- total number of counts per cell\n",
        "- number of expressed genes per cell\n",
        "- fraction of mitochondrial reads per cell\n",
        "\n",
        "Note: mitochondrial genes in human start with 'MT-'"
      ]
    },
    {
      "cell_type": "markdown",
      "metadata": {
        "id": "F74-nlHpd2hZ"
      },
      "source": [
        "In general it is a good idea to be permissive in the early filtering steps, and then come back to filter out more stringently when a clear picture is available of what would be filtered out. \n"
      ]
    },
    {
      "cell_type": "code",
      "metadata": {
        "id": "4rTFrc59g_zF"
      },
      "source": [
        "# Quality control - calculate QC covariates\n",
        "adata.obs['n_counts'] = adata.X.sum(1)\n",
        "adata.obs['log_counts'] = np.log(adata.obs['n_counts'])\n",
        "adata.obs['n_genes'] = (adata.X > 0).sum(1)\n",
        "\n",
        "#mito_genes = [name for name in adata.var_names if name.startswith('MT-')]\n",
        "mito_genes = [name for name in adata.var_names if name.startswith('MT-')]\n",
        "adata.obs['mt_frac'] = np.sum(adata[:, mito_genes].X, axis=1) / np.sum(adata.X, axis=1)\n",
        "\n",
        "#adata.obs['mt_frac'] = np.sum(adata[:, mito_genes].X, axis=1) / np.sum(adata.X, axis=1)\n",
        "adata\n",
        "\n",
        "#mt_gene_mask = [gene.startswith('MT-') for gene in adata.var['gene_symbol']]\n",
        "#adata.obs['mt_frac'] = adata.X[:, mt_gene_mask].sum(1)/adata.obs['n_counts']"
      ],
      "execution_count": null,
      "outputs": []
    },
    {
      "cell_type": "markdown",
      "metadata": {
        "id": "pF_aNT-mls1a"
      },
      "source": [
        "## Filtering"
      ]
    },
    {
      "cell_type": "code",
      "metadata": {
        "id": "zAoTnbDlloAq"
      },
      "source": [
        "# Filter cells according to identified QC thresholds:\n",
        "print('Total number of cells: {:d}'.format(adata.n_obs))\n",
        "\n",
        "sc.pp.filter_cells(adata, min_counts = min_counts)\n",
        "print('Number of cells after min count filter: {:d}'.format(adata.n_obs))\n",
        "\n",
        "sc.pp.filter_cells(adata, max_counts = max_counts)\n",
        "print('Number of cells after max count filter: {:d}'.format(adata.n_obs))\n",
        "\n",
        "adata = adata[adata.obs['mt_frac'] < mito_criteria]\n",
        "print('Number of cells after MT filter: {:d}'.format(adata.n_obs))\n",
        "\n",
        "sc.pp.filter_cells(adata, min_genes = min_genes)\n",
        "print('Number of cells after gene filter: {:d}'.format(adata.n_obs))"
      ],
      "execution_count": null,
      "outputs": []
    },
    {
      "cell_type": "code",
      "metadata": {
        "id": "H9Kh9qqDoZrQ"
      },
      "source": [
        "sb.set_context('paper')\n",
        "pl.rcParams['lines.linewidth'] = 0.1\n",
        "import matplotlib.pyplot as plt\n",
        "\n",
        "fig, (ax1, ax2, ax3) = plt.subplots(1, 3, figsize=(16,4), gridspec_kw={'wspace':0.2})\n",
        "\n",
        "ax1_dict = sc.pl.violin(adata, 'n_counts', groupby='sample', size=0.5, log=True, cut=0, ax=ax1, show=False)\n",
        "ax2_dict =  sc.pl.violin(adata, 'n_genes', groupby='sample', size=0.5, log=True, cut=0, ax=ax2, show=False)\n",
        "ax3_dict = sc.pl.violin(adata, 'mt_frac', groupby='sample',size=0.5, ax=ax3, show=False,)\n",
        "savefig='figures/'+samplename + '_1_QC_violin_plots.pdf'\n",
        "fig.savefig(savefig, dpi=300, bbox_inches='tight')"
      ],
      "execution_count": null,
      "outputs": []
    },
    {
      "cell_type": "code",
      "metadata": {
        "id": "Yzn_5KbEnCEb"
      },
      "source": [
        "#Filter genes:\n",
        "print('Total number of genes: {:d}'.format(adata.n_vars))\n",
        "\n",
        "# Min 20 cells - filters out 0 count genes\n",
        "sc.pp.filter_genes(adata, min_cells=20)\n",
        "print('Number of genes after cell filter: {:d}'.format(adata.n_vars))"
      ],
      "execution_count": null,
      "outputs": []
    },
    {
      "cell_type": "code",
      "metadata": {
        "id": "Llecslm1nJHS"
      },
      "source": [
        "# plot percentage of mitochondtial genes versus count depth and n_genes\n",
        "# compute qc metrics\n",
        "regex = re.compile('^(MT).*', re.IGNORECASE)\n",
        "mito_genes = [l for l in adata.var_names for m in [regex.search(l)] if m]\n",
        "adata.var['mito'] = False\n",
        "adata.var.loc[mito_genes, 'mito'] = True\n",
        "print('Found {} mito genes and annotated.'.format(len(mito_genes)))\n",
        "\n",
        "sc.pp.calculate_qc_metrics(adata, qc_vars=['mito'], inplace=True)\n",
        "\n",
        "pl.rcParams['figure.figsize']=(5,5) #rescale figures\n",
        "sc.pl.scatter(adata, x='total_counts', y='n_genes', color='mt_frac',save='.pdf')"
      ],
      "execution_count": null,
      "outputs": []
    },
    {
      "cell_type": "markdown",
      "metadata": {
        "id": "R-kmFuHVneZE"
      },
      "source": [
        "# Normalization"
      ]
    },
    {
      "cell_type": "code",
      "metadata": {
        "id": "FS49BaS6ndvA"
      },
      "source": [
        "\n",
        "sc.pp.normalize_total(adata, target_sum=1e4,exclude_highly_expressed=True,inplace=True)"
      ],
      "execution_count": null,
      "outputs": []
    },
    {
      "cell_type": "markdown",
      "metadata": {
        "id": "r8lpkGOBtSWZ"
      },
      "source": [
        "## Removal of Mitochondrial and Ribosomal Protein Genes"
      ]
    },
    {
      "cell_type": "code",
      "metadata": {
        "id": "n5bAlrNPa69R"
      },
      "source": [
        "ribo_genes = adata.var_names.str.startswith((\"RPS\",\"RPL\"))\n",
        "mito_genes = adata.var_names.str.startswith('MT-')\n",
        "malat1 = adata.var_names.str.startswith('MALAT1')\n",
        "remove = np.add(ribo_genes,mito_genes)\n",
        "remove = np.add(remove,malat1)\n",
        "kept_genes = np.invert(remove)"
      ],
      "execution_count": null,
      "outputs": []
    },
    {
      "cell_type": "code",
      "metadata": {
        "id": "Qkz02DfIa-Pm"
      },
      "source": [
        "adata = adata[:,kept_genes]"
      ],
      "execution_count": null,
      "outputs": []
    },
    {
      "cell_type": "code",
      "metadata": {
        "id": "8SezPZ8NzzLl"
      },
      "source": [
        "adata.raw = adata\n",
        "sc.pp.log1p(adata)"
      ],
      "execution_count": null,
      "outputs": []
    },
    {
      "cell_type": "markdown",
      "metadata": {
        "id": "7kTzWBGopy-8"
      },
      "source": [
        "# Sellection of HVG"
      ]
    },
    {
      "cell_type": "code",
      "metadata": {
        "id": "EKS1zY-0pyWw"
      },
      "source": [
        "#Expects logarithmized data.\n",
        "sc.pp.highly_variable_genes(adata, flavor=flavor, n_top_genes=n_top_genes)\n",
        "print('\\n','Number of highly variable genes: {:d}'.format(np.sum(adata.var['highly_variable'])))"
      ],
      "execution_count": null,
      "outputs": []
    },
    {
      "cell_type": "code",
      "metadata": {
        "id": "CfXkXNpvpyiD"
      },
      "source": [
        "pl.rcParams['lines.linewidth'] = 0.1\n",
        "sc.pl.highly_variable_genes(adata,save='.pdf')"
      ],
      "execution_count": null,
      "outputs": []
    },
    {
      "cell_type": "markdown",
      "metadata": {
        "id": "LEBx9dOQqJmD"
      },
      "source": [
        "## PCA"
      ]
    },
    {
      "cell_type": "code",
      "metadata": {
        "id": "bj4mt67cqI8F"
      },
      "source": [
        "\n",
        "sc.pp.scale(adata,max_value=10)\n",
        "sc.pp.pca(adata, n_comps = 60, use_highly_variable = True, svd_solver = \"arpack\")\n",
        "sc.pl.pca_variance_ratio(adata, n_pcs = 40)"
      ],
      "execution_count": null,
      "outputs": []
    },
    {
      "cell_type": "markdown",
      "metadata": {
        "id": "NUt04txyqRaW"
      },
      "source": [
        "# Clustering"
      ]
    },
    {
      "cell_type": "code",
      "metadata": {
        "id": "xnhzg-6kqREX"
      },
      "source": [
        "sb.set_context('talk')\n",
        "pl.rcParams['figure.figsize']=(5,5)\n",
        "sc.pp.neighbors(adata, n_pcs=num_PCA,n_neighbors=n_neighbors,random_state=state)\n",
        "sc.tl.leiden(adata,random_state=42, resolution = 0.8)\n",
        "sc.tl.umap(adata,random_state=42)\n",
        "sc.tl.tsne(adata,random_state=42)\n",
        "sc.tl.diffmap(adata)\n",
        "sc.tl.draw_graph(adata)\n"
      ],
      "execution_count": null,
      "outputs": []
    },
    {
      "cell_type": "code",
      "metadata": {
        "id": "m5wezxZ7qxPp"
      },
      "source": [
        "sb.set_context('talk')\n",
        "pl.rcParams['figure.figsize']=(5,5)\n",
        "genes_to_plot = ['n_genes','log_counts','mt_frac']\n",
        "savefig=\"QC_mito.pdf\"\n",
        "sc.pl.tsne(adata, color = genes_to_plot,ncols=2,cmap='viridis',save=savefig)"
      ],
      "execution_count": null,
      "outputs": []
    },
    {
      "cell_type": "code",
      "metadata": {
        "id": "KzMZObQI1gzT"
      },
      "source": [
        "\n",
        "sb.set_context('paper')\n",
        "pl.rcParams['figure.figsize']=(7,7)\n",
        "#sc.tl.leiden(adata,random_state=random_state, resolution = 0.5)\n",
        "savefig=samplename+\"_clustering_hires_vst.pdf\"\n",
        "sc.pl.umap(adata, color=['leiden'], legend_loc='on data',legend_fontoutline=3,legend_fontsize='small', legend_fontweight='normal',frameon=False,save=savefig)"
      ],
      "execution_count": null,
      "outputs": []
    },
    {
      "cell_type": "code",
      "metadata": {
        "id": "RNnYluemrFY-"
      },
      "source": [
        "sb.set_context('talk')\n",
        "pl.rcParams['figure.figsize']=(15,10)\n",
        "fig_ind=np.arange(231, 237)\n",
        "fig = pl.figure()\n",
        "fig.subplots_adjust(hspace=0.4, wspace=0.6)\n",
        "\n",
        "p10 = sc.pl.pca_scatter(adata, color='leiden', ax=fig.add_subplot(fig_ind[0]), show=False)\n",
        "p11 = sc.pl.tsne(adata, color='leiden', ax=fig.add_subplot(fig_ind[1]), show=False)\n",
        "p12 = sc.pl.umap(adata, color='leiden', ax=fig.add_subplot(fig_ind[2]), show=False)\n",
        "\n",
        "pl.show()"
      ],
      "execution_count": null,
      "outputs": []
    },
    {
      "cell_type": "code",
      "metadata": {
        "id": "b4gnQqorrG1D"
      },
      "source": [
        "pl.rcParams['figure.figsize']=(5,5)\n",
        "sb.set_context('paper')\n",
        "sc.tl.leiden(adata, resolution=0.5, key_added='leiden_r0.5')\n",
        "\n",
        "#Visualize the clustering and how this is reflected by different technical covariates\n",
        "sc.pl.umap(adata, color=['leiden_r0.5','leiden', ])\n",
        "#sc.pl.umap(adata, color=['log_counts', 'mt_frac'])"
      ],
      "execution_count": null,
      "outputs": []
    },
    {
      "cell_type": "code",
      "metadata": {
        "id": "7XwZhmCBucJT"
      },
      "source": [
        "adata.write('Clustered_data.h5ad')"
      ],
      "execution_count": null,
      "outputs": []
    },
    {
      "cell_type": "markdown",
      "metadata": {
        "id": "ZwBX7BEfcsFR"
      },
      "source": [
        "# Marker genes"
      ]
    },
    {
      "cell_type": "code",
      "metadata": {
        "id": "nnxbj1NtpaW2"
      },
      "source": [
        "#method : {‘logreg’, ‘t-test’, ‘wilcoxon’, ‘t-test_overestim_var’} | None (default: None)\n",
        "sc.tl.rank_genes_groups(adata, 'leiden', method='logreg',n_genes=adata.shape[1])\n",
        "markers=pd.DataFrame(adata.uns['rank_genes_groups']['names']).head(20)\n",
        "markers"
      ],
      "execution_count": null,
      "outputs": []
    },
    {
      "cell_type": "code",
      "metadata": {
        "id": "uIfuHFVzpgZ3"
      },
      "source": [
        "savetable=samplename+\"_marker_genes_leiden_10.csv\"\n",
        "markers.to_csv(savetable)"
      ],
      "execution_count": null,
      "outputs": []
    },
    {
      "cell_type": "code",
      "metadata": {
        "id": "kUnHD6RApkJe"
      },
      "source": [
        "sc.tl.rank_genes_groups(adata, 'leiden', method='t-test', groups= ['7'], reference='11',key_added = \"wilcoxon\")\n",
        "#sc.tl.rank_genes_groups(adata, 'leiden_r1', method='t-test',key_added = \"wilcoxon\")\n",
        "sc.get.rank_genes_groups_df(adata, group='7', key='wilcoxon',log2fc_min=2)"
      ],
      "execution_count": null,
      "outputs": []
    },
    {
      "cell_type": "code",
      "metadata": {
        "id": "n2h-neUOcKnp"
      },
      "source": [
        "marker_genes = ['IL7R', 'CD79A', 'MS4A1', 'CD8A', 'CD8B', 'LYZ', 'CD14',\n",
        "                'LGALS3', 'S100A8', 'GNLY','NCAM1', 'NKG7', 'KLRB1',\n",
        "                'FCGR3A', 'MS4A7', 'FCER1A', 'CST3', 'PPBP']"
      ],
      "execution_count": null,
      "outputs": []
    },
    {
      "cell_type": "code",
      "metadata": {
        "id": "h8Oi21EkcPHW"
      },
      "source": [
        "sb.set_context('paper')\n",
        "pl.rcParams['figure.figsize']=(4,4)\n",
        "\n",
        "sc.pl.umap(adata=adata, color=marker_genes, use_raw=False)"
      ],
      "execution_count": null,
      "outputs": []
    },
    {
      "cell_type": "markdown",
      "metadata": {
        "id": "Y8sHHjcucyKl"
      },
      "source": [
        "# Visualization"
      ]
    },
    {
      "cell_type": "code",
      "metadata": {
        "id": "8qUbyPuHcPw4"
      },
      "source": [
        "\n",
        "ax = sc.pl.dotplot(adata, marker_genes, groupby='leiden', use_raw=False)"
      ],
      "execution_count": null,
      "outputs": []
    },
    {
      "cell_type": "code",
      "metadata": {
        "id": "bekzx2_QcXOU"
      },
      "source": [
        "sc.pl.heatmap(adata=adata, var_names=marker_genes,\n",
        "              groupby='leiden', use_raw=False, vmin=0,cmap='viridis')"
      ],
      "execution_count": null,
      "outputs": []
    },
    {
      "cell_type": "code",
      "metadata": {
        "id": "TpPsQ9E_cXTi"
      },
      "source": [
        "ax = sc.pl.stacked_violin(adata, marker_genes, groupby='leiden', use_raw=False)"
      ],
      "execution_count": null,
      "outputs": []
    },
    {
      "cell_type": "code",
      "metadata": {
        "id": "XjdK18rsd8sa"
      },
      "source": [
        "adata.obs['annotated'] = adata.obs['leiden'].cat.add_categories(['CD4 T cells', \n",
        "                        'Monocytes', 'B cells', 'CD8 T cells', \n",
        "                        'FCGR3A+ Monocytes', 'NK cells', 'Dendritic cells'])\n",
        "\n",
        "adata.obs['annotated'][np.in1d(adata.obs['annotated'], ['1','4'])] = 'CD4 T cells'\n",
        "adata.obs['annotated'][np.in1d(adata.obs['annotated'], ['5','9'])] = 'B cells'\n",
        "adata.obs['annotated'][np.in1d(adata.obs['annotated'], ['2','3','8','6'])] = 'CD8 T cells'\n",
        "adata.obs['annotated'][np.in1d(adata.obs['annotated'], ['0','10','11','12','13'])] = 'Monocytes'\n",
        "adata.obs['annotated'][np.in1d(adata.obs['annotated'], ['7',])] = 'NK cells'\n",
        "adata.obs['annotated'][np.in1d(adata.obs['annotated'], ['11', '12'])] = 'Dendritic cells'\n",
        "\n",
        "adata.obs['annotated'] = adata.obs['annotated'].cat.remove_unused_categories()"
      ],
      "execution_count": null,
      "outputs": []
    },
    {
      "cell_type": "code",
      "metadata": {
        "id": "AoSjuwJ0enLn"
      },
      "source": [
        "\n",
        "sb.set_context('talk')\n",
        "pl.rcParams['figure.figsize']=(7,7)\n",
        "#sc.tl.leiden(adata,random_state=random_state, resolution = 0.5)\n",
        "savefig=samplename+\"_clustering_hires_vst.pdf\"\n",
        "sc.pl.umap(adata, color=['annotated'], legend_loc='on data',legend_fontoutline=3,legend_fontsize='small', legend_fontweight='normal',frameon=False,save=savefig)\n"
      ],
      "execution_count": null,
      "outputs": []
    },
    {
      "cell_type": "code",
      "metadata": {
        "id": "rif5x5o-3OIh"
      },
      "source": [
        "adata.write('Annotated_data.h5ad')"
      ],
      "execution_count": null,
      "outputs": []
    }
  ]
}